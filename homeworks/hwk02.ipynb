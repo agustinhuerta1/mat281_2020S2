{
 "cells": [
  {
   "cell_type": "markdown",
   "metadata": {},
   "source": [
    "# MAT281 - Tarea 2"
   ]
  },
  {
   "cell_type": "markdown",
   "metadata": {},
   "source": [
    "**Indicaciones**:\n",
    "\n",
    "* En los **Ejercicio 1-8** puedes utilizar tanto `matplotlib` como `altair` según te parezca más conveniente o cómodo, en ambos casos cada gráfico debe tener elementos mínimos como:\n",
    "    - Título\n",
    "    - Nombre de los ejes, leyendas, etc. en formato _amigable_/_humano_, por ejemplo, si la columna del dataframe en cuestión tiene por nombre `casos_confirmados` se espera que el eje del gráfico tenga por nombre `Casos confirmados`.\n",
    "    - Colores adecuados al tipo de datos.\n",
    "    - Un tamaño adecuado para ver con facilidad en una pantalla con resolución HD o FullHD.\n",
    "    - Cada vez que no se cumplan alguna de estos requerimientos se descontará __1 punto__ de la nota final.\n",
    "\n",
    "* Para el **Ejercicio 9** es obligación utilizar `altair`.\n",
    "* Cada ejercicio debe estar acompañado con una celda con comentarios o análisis que puedas desprender de los gráficos."
   ]
  },
  {
   "cell_type": "code",
   "execution_count": 1,
   "metadata": {},
   "outputs": [],
   "source": [
    "import numpy as np\n",
    "import pandas as pd\n",
    "import matplotlib.pyplot as plt\n",
    "import altair as alt\n",
    "import ipywidgets as widgets\n",
    "\n",
    "from datetime import date\n",
    "from ipywidgets import interactive, interact\n",
    "\n",
    "pd.set_option('display.max_columns', 999)\n",
    "alt.data_transformers.enable('data_server')\n",
    "alt.themes.enable('opaque')\n",
    "\n",
    "%matplotlib inline"
   ]
  },
  {
   "cell_type": "markdown",
   "metadata": {},
   "source": [
    "**COVID-19 en Chile** \n",
    "\n",
    "En esta tarea exploraremos los datos de Covid-19 en Chile a profundidad. Las siguientes celdas cargarán los datos a utilizar en tu sesión. Es importante que leas la documentación de cada conjunto de datos para comprender las columnas."
   ]
  },
  {
   "cell_type": "code",
   "execution_count": 2,
   "metadata": {},
   "outputs": [],
   "source": [
    "start_date = pd.to_datetime(\"2020-04-13\")"
   ]
  },
  {
   "cell_type": "code",
   "execution_count": 3,
   "metadata": {},
   "outputs": [
    {
     "data": {
      "text/html": [
       "<div>\n",
       "<style scoped>\n",
       "    .dataframe tbody tr th:only-of-type {\n",
       "        vertical-align: middle;\n",
       "    }\n",
       "\n",
       "    .dataframe tbody tr th {\n",
       "        vertical-align: top;\n",
       "    }\n",
       "\n",
       "    .dataframe thead th {\n",
       "        text-align: right;\n",
       "    }\n",
       "</style>\n",
       "<table border=\"1\" class=\"dataframe\">\n",
       "  <thead>\n",
       "    <tr style=\"text-align: right;\">\n",
       "      <th></th>\n",
       "      <th>poblacion</th>\n",
       "      <th>casos_confirmados</th>\n",
       "      <th>fecha</th>\n",
       "      <th>region_id</th>\n",
       "      <th>region</th>\n",
       "      <th>provincia_id</th>\n",
       "      <th>provincia</th>\n",
       "      <th>comuna_id</th>\n",
       "      <th>comuna</th>\n",
       "      <th>tasa</th>\n",
       "    </tr>\n",
       "  </thead>\n",
       "  <tbody>\n",
       "    <tr>\n",
       "      <th>0</th>\n",
       "      <td>247552.0</td>\n",
       "      <td>3123.0</td>\n",
       "      <td>2020-07-17</td>\n",
       "      <td>15.0</td>\n",
       "      <td>Arica y Parinacota</td>\n",
       "      <td>151.0</td>\n",
       "      <td>Arica</td>\n",
       "      <td>15101.0</td>\n",
       "      <td>Arica</td>\n",
       "      <td>1261.553128</td>\n",
       "    </tr>\n",
       "    <tr>\n",
       "      <th>1</th>\n",
       "      <td>247552.0</td>\n",
       "      <td>8332.0</td>\n",
       "      <td>2020-09-28</td>\n",
       "      <td>15.0</td>\n",
       "      <td>Arica y Parinacota</td>\n",
       "      <td>151.0</td>\n",
       "      <td>Arica</td>\n",
       "      <td>15101.0</td>\n",
       "      <td>Arica</td>\n",
       "      <td>3365.757497</td>\n",
       "    </tr>\n",
       "    <tr>\n",
       "      <th>2</th>\n",
       "      <td>247552.0</td>\n",
       "      <td>310.0</td>\n",
       "      <td>2020-05-04</td>\n",
       "      <td>15.0</td>\n",
       "      <td>Arica y Parinacota</td>\n",
       "      <td>151.0</td>\n",
       "      <td>Arica</td>\n",
       "      <td>15101.0</td>\n",
       "      <td>Arica</td>\n",
       "      <td>125.226215</td>\n",
       "    </tr>\n",
       "    <tr>\n",
       "      <th>3</th>\n",
       "      <td>247552.0</td>\n",
       "      <td>9343.0</td>\n",
       "      <td>2020-10-16</td>\n",
       "      <td>15.0</td>\n",
       "      <td>Arica y Parinacota</td>\n",
       "      <td>151.0</td>\n",
       "      <td>Arica</td>\n",
       "      <td>15101.0</td>\n",
       "      <td>Arica</td>\n",
       "      <td>3774.156541</td>\n",
       "    </tr>\n",
       "    <tr>\n",
       "      <th>4</th>\n",
       "      <td>247552.0</td>\n",
       "      <td>7503.0</td>\n",
       "      <td>2020-09-11</td>\n",
       "      <td>15.0</td>\n",
       "      <td>Arica y Parinacota</td>\n",
       "      <td>151.0</td>\n",
       "      <td>Arica</td>\n",
       "      <td>15101.0</td>\n",
       "      <td>Arica</td>\n",
       "      <td>3030.878361</td>\n",
       "    </tr>\n",
       "  </tbody>\n",
       "</table>\n",
       "</div>"
      ],
      "text/plain": [
       "   poblacion  casos_confirmados      fecha  region_id              region  \\\n",
       "0   247552.0             3123.0 2020-07-17       15.0  Arica y Parinacota   \n",
       "1   247552.0             8332.0 2020-09-28       15.0  Arica y Parinacota   \n",
       "2   247552.0              310.0 2020-05-04       15.0  Arica y Parinacota   \n",
       "3   247552.0             9343.0 2020-10-16       15.0  Arica y Parinacota   \n",
       "4   247552.0             7503.0 2020-09-11       15.0  Arica y Parinacota   \n",
       "\n",
       "   provincia_id provincia  comuna_id comuna         tasa  \n",
       "0         151.0     Arica    15101.0  Arica  1261.553128  \n",
       "1         151.0     Arica    15101.0  Arica  3365.757497  \n",
       "2         151.0     Arica    15101.0  Arica   125.226215  \n",
       "3         151.0     Arica    15101.0  Arica  3774.156541  \n",
       "4         151.0     Arica    15101.0  Arica  3030.878361  "
      ]
     },
     "execution_count": 3,
     "metadata": {},
     "output_type": "execute_result"
    }
   ],
   "source": [
    "# https://github.com/MinCiencia/Datos-COVID19/tree/master/output/producto6\n",
    "confirmados = (\n",
    "    pd.read_csv(\"https://raw.githubusercontent.com/MinCiencia/Datos-COVID19/master/output/producto6/bulk/data.csv\")\n",
    "    .rename(columns=lambda x: x.lower().replace(\" \", \"_\"))\n",
    "    .assign(fecha=lambda x: pd.to_datetime(x[\"fecha\"]))\n",
    "    .loc[lambda x: x[\"fecha\"] >= start_date]\n",
    "    .dropna()\n",
    "    .astype({\"casos_confirmados\": np.float, \"tasa\": np.float})\n",
    ")\n",
    "\n",
    "confirmados.head()"
   ]
  },
  {
   "cell_type": "code",
   "execution_count": 4,
   "metadata": {},
   "outputs": [
    {
     "data": {
      "text/html": [
       "<div>\n",
       "<style scoped>\n",
       "    .dataframe tbody tr th:only-of-type {\n",
       "        vertical-align: middle;\n",
       "    }\n",
       "\n",
       "    .dataframe tbody tr th {\n",
       "        vertical-align: top;\n",
       "    }\n",
       "\n",
       "    .dataframe thead th {\n",
       "        text-align: right;\n",
       "    }\n",
       "</style>\n",
       "<table border=\"1\" class=\"dataframe\">\n",
       "  <thead>\n",
       "    <tr style=\"text-align: right;\">\n",
       "      <th></th>\n",
       "      <th>region</th>\n",
       "      <th>codigo_region</th>\n",
       "      <th>comuna</th>\n",
       "      <th>codigo_comuna</th>\n",
       "      <th>poblacion</th>\n",
       "      <th>fecha</th>\n",
       "      <th>casos_activos</th>\n",
       "    </tr>\n",
       "  </thead>\n",
       "  <tbody>\n",
       "    <tr>\n",
       "      <th>0</th>\n",
       "      <td>Arica y Parinacota</td>\n",
       "      <td>15</td>\n",
       "      <td>Arica</td>\n",
       "      <td>15101.0</td>\n",
       "      <td>247552.0</td>\n",
       "      <td>2020-04-13</td>\n",
       "      <td>88.0</td>\n",
       "    </tr>\n",
       "    <tr>\n",
       "      <th>1</th>\n",
       "      <td>Arica y Parinacota</td>\n",
       "      <td>15</td>\n",
       "      <td>Camarones</td>\n",
       "      <td>15102.0</td>\n",
       "      <td>1233.0</td>\n",
       "      <td>2020-04-13</td>\n",
       "      <td>0.0</td>\n",
       "    </tr>\n",
       "    <tr>\n",
       "      <th>2</th>\n",
       "      <td>Arica y Parinacota</td>\n",
       "      <td>15</td>\n",
       "      <td>General Lagos</td>\n",
       "      <td>15202.0</td>\n",
       "      <td>810.0</td>\n",
       "      <td>2020-04-13</td>\n",
       "      <td>0.0</td>\n",
       "    </tr>\n",
       "    <tr>\n",
       "      <th>3</th>\n",
       "      <td>Arica y Parinacota</td>\n",
       "      <td>15</td>\n",
       "      <td>Putre</td>\n",
       "      <td>15201.0</td>\n",
       "      <td>2515.0</td>\n",
       "      <td>2020-04-13</td>\n",
       "      <td>0.0</td>\n",
       "    </tr>\n",
       "    <tr>\n",
       "      <th>4</th>\n",
       "      <td>Tarapaca</td>\n",
       "      <td>1</td>\n",
       "      <td>Alto Hospicio</td>\n",
       "      <td>1107.0</td>\n",
       "      <td>129999.0</td>\n",
       "      <td>2020-04-13</td>\n",
       "      <td>8.0</td>\n",
       "    </tr>\n",
       "  </tbody>\n",
       "</table>\n",
       "</div>"
      ],
      "text/plain": [
       "               region  codigo_region         comuna  codigo_comuna  poblacion  \\\n",
       "0  Arica y Parinacota             15          Arica        15101.0   247552.0   \n",
       "1  Arica y Parinacota             15      Camarones        15102.0     1233.0   \n",
       "2  Arica y Parinacota             15  General Lagos        15202.0      810.0   \n",
       "3  Arica y Parinacota             15          Putre        15201.0     2515.0   \n",
       "4            Tarapaca              1  Alto Hospicio         1107.0   129999.0   \n",
       "\n",
       "       fecha  casos_activos  \n",
       "0 2020-04-13           88.0  \n",
       "1 2020-04-13            0.0  \n",
       "2 2020-04-13            0.0  \n",
       "3 2020-04-13            0.0  \n",
       "4 2020-04-13            8.0  "
      ]
     },
     "execution_count": 4,
     "metadata": {},
     "output_type": "execute_result"
    }
   ],
   "source": [
    "# https://github.com/MinCiencia/Datos-COVID19/tree/master/output/producto19\n",
    "activos = (\n",
    "    pd.read_csv(\"https://raw.githubusercontent.com/MinCiencia/Datos-COVID19/master/output/producto19/CasosActivosPorComuna.csv\")\n",
    "    .rename(columns=lambda x: x.lower().replace(\" \", \"_\"))\n",
    "    .loc[lambda x: x[\"codigo_comuna\"].notnull()]\n",
    "    .melt(id_vars=[\"region\", \"codigo_region\", \"comuna\", \"codigo_comuna\", \"poblacion\"], var_name=\"fecha\", value_name=\"casos_activos\")\n",
    "    .assign(fecha=lambda x: pd.to_datetime(x[\"fecha\"]))\n",
    "    .loc[lambda x: x[\"fecha\"] >= start_date]\n",
    ")\n",
    "\n",
    "activos.head()"
   ]
  },
  {
   "cell_type": "code",
   "execution_count": 5,
   "metadata": {},
   "outputs": [
    {
     "data": {
      "text/html": [
       "<div>\n",
       "<style scoped>\n",
       "    .dataframe tbody tr th:only-of-type {\n",
       "        vertical-align: middle;\n",
       "    }\n",
       "\n",
       "    .dataframe tbody tr th {\n",
       "        vertical-align: top;\n",
       "    }\n",
       "\n",
       "    .dataframe thead th {\n",
       "        text-align: right;\n",
       "    }\n",
       "</style>\n",
       "<table border=\"1\" class=\"dataframe\">\n",
       "  <thead>\n",
       "    <tr style=\"text-align: right;\">\n",
       "      <th></th>\n",
       "      <th>region</th>\n",
       "      <th>fecha</th>\n",
       "      <th>fallecidos</th>\n",
       "    </tr>\n",
       "  </thead>\n",
       "  <tbody>\n",
       "    <tr>\n",
       "      <th>374</th>\n",
       "      <td>Arica y Parinacota</td>\n",
       "      <td>2020-04-13</td>\n",
       "      <td>1.0</td>\n",
       "    </tr>\n",
       "    <tr>\n",
       "      <th>375</th>\n",
       "      <td>Tarapacá</td>\n",
       "      <td>2020-04-13</td>\n",
       "      <td>0.0</td>\n",
       "    </tr>\n",
       "    <tr>\n",
       "      <th>376</th>\n",
       "      <td>Antofagasta</td>\n",
       "      <td>2020-04-13</td>\n",
       "      <td>1.0</td>\n",
       "    </tr>\n",
       "    <tr>\n",
       "      <th>377</th>\n",
       "      <td>Atacama</td>\n",
       "      <td>2020-04-13</td>\n",
       "      <td>0.0</td>\n",
       "    </tr>\n",
       "    <tr>\n",
       "      <th>378</th>\n",
       "      <td>Coquimbo</td>\n",
       "      <td>2020-04-13</td>\n",
       "      <td>0.0</td>\n",
       "    </tr>\n",
       "  </tbody>\n",
       "</table>\n",
       "</div>"
      ],
      "text/plain": [
       "                 region      fecha  fallecidos\n",
       "374  Arica y Parinacota 2020-04-13         1.0\n",
       "375            Tarapacá 2020-04-13         0.0\n",
       "376         Antofagasta 2020-04-13         1.0\n",
       "377             Atacama 2020-04-13         0.0\n",
       "378            Coquimbo 2020-04-13         0.0"
      ]
     },
     "execution_count": 5,
     "metadata": {},
     "output_type": "execute_result"
    }
   ],
   "source": [
    "# https://github.com/MinCiencia/Datos-COVID19/tree/master/output/producto14\n",
    "fallecidos = (\n",
    "    pd.read_csv(\"https://raw.githubusercontent.com/MinCiencia/Datos-COVID19/master/output/producto14/FallecidosCumulativo.csv\")\n",
    "    .rename(columns=lambda x: x.lower().replace(\" \", \"_\"))\n",
    "    .melt(id_vars=[\"region\"], var_name=\"fecha\", value_name=\"fallecidos\")\n",
    "    .assign(\n",
    "        fecha=lambda x: pd.to_datetime(x[\"fecha\"]),\n",
    "    )\n",
    "    .loc[lambda x: x[\"fecha\"] >= start_date]\n",
    ")\n",
    "\n",
    "fallecidos.head()"
   ]
  },
  {
   "cell_type": "code",
   "execution_count": 6,
   "metadata": {},
   "outputs": [
    {
     "data": {
      "text/html": [
       "<div>\n",
       "<style scoped>\n",
       "    .dataframe tbody tr th:only-of-type {\n",
       "        vertical-align: middle;\n",
       "    }\n",
       "\n",
       "    .dataframe tbody tr th {\n",
       "        vertical-align: top;\n",
       "    }\n",
       "\n",
       "    .dataframe thead th {\n",
       "        text-align: right;\n",
       "    }\n",
       "</style>\n",
       "<table border=\"1\" class=\"dataframe\">\n",
       "  <thead>\n",
       "    <tr style=\"text-align: right;\">\n",
       "      <th></th>\n",
       "      <th>grupo_de_edad</th>\n",
       "      <th>fecha</th>\n",
       "      <th>fallecidos</th>\n",
       "    </tr>\n",
       "  </thead>\n",
       "  <tbody>\n",
       "    <tr>\n",
       "      <th>28</th>\n",
       "      <td>0-39</td>\n",
       "      <td>2020-04-13</td>\n",
       "      <td>3</td>\n",
       "    </tr>\n",
       "    <tr>\n",
       "      <th>29</th>\n",
       "      <td>40-49</td>\n",
       "      <td>2020-04-13</td>\n",
       "      <td>2</td>\n",
       "    </tr>\n",
       "    <tr>\n",
       "      <th>30</th>\n",
       "      <td>50-59</td>\n",
       "      <td>2020-04-13</td>\n",
       "      <td>3</td>\n",
       "    </tr>\n",
       "    <tr>\n",
       "      <th>31</th>\n",
       "      <td>60-69</td>\n",
       "      <td>2020-04-13</td>\n",
       "      <td>12</td>\n",
       "    </tr>\n",
       "    <tr>\n",
       "      <th>32</th>\n",
       "      <td>70-79</td>\n",
       "      <td>2020-04-13</td>\n",
       "      <td>29</td>\n",
       "    </tr>\n",
       "  </tbody>\n",
       "</table>\n",
       "</div>"
      ],
      "text/plain": [
       "   grupo_de_edad      fecha  fallecidos\n",
       "28          0-39 2020-04-13           3\n",
       "29         40-49 2020-04-13           2\n",
       "30         50-59 2020-04-13           3\n",
       "31         60-69 2020-04-13          12\n",
       "32         70-79 2020-04-13          29"
      ]
     },
     "execution_count": 6,
     "metadata": {},
     "output_type": "execute_result"
    }
   ],
   "source": [
    "# https://github.com/MinCiencia/Datos-COVID19/tree/master/output/producto10\n",
    "fallecidos_etareo = (\n",
    "    pd.read_csv(\"https://raw.githubusercontent.com/MinCiencia/Datos-COVID19/master/output/producto10/FallecidosEtario.csv\")\n",
    "    .rename(columns=lambda x: x.lower().replace(\" \", \"_\"))\n",
    "    .melt(id_vars=[\"grupo_de_edad\"], var_name=\"fecha\", value_name=\"fallecidos\")\n",
    "    .assign(\n",
    "        fecha=lambda x: pd.to_datetime(x[\"fecha\"]),\n",
    "        grupo_de_edad=lambda x: x[\"grupo_de_edad\"].str.replace(\"<=39\", \"0-39\")\n",
    "    )\n",
    "    .loc[lambda x: x[\"fecha\"] >= start_date]\n",
    ")\n",
    "\n",
    "fallecidos_etareo.head()"
   ]
  },
  {
   "cell_type": "markdown",
   "metadata": {},
   "source": [
    "## Ejercicio 1\n",
    "\n",
    "(10 puntos)\n",
    "\n",
    "Mostrar cantidad de fallecidos la fecha por cada grupo etáreo."
   ]
  },
  {
   "cell_type": "code",
   "execution_count": 7,
   "metadata": {},
   "outputs": [],
   "source": [
    "# FIX ME #"
   ]
  },
  {
   "cell_type": "markdown",
   "metadata": {},
   "source": [
    "**Comentarios:** RESPONDE AQUÍ"
   ]
  },
  {
   "cell_type": "markdown",
   "metadata": {},
   "source": [
    "## Ejercicio 2\n",
    "\n",
    "(10 puntos)\n",
    "\n",
    "¿Qué tan variable es la población de las comunas de Chile? Considera utilizar un gráfico que resuma de buena forma la información sin agregar la variable de región o provincia."
   ]
  },
  {
   "cell_type": "code",
   "execution_count": 8,
   "metadata": {},
   "outputs": [],
   "source": [
    "# FIX ME #"
   ]
  },
  {
   "cell_type": "markdown",
   "metadata": {},
   "source": [
    "**Comentarios:** RESPONDE AQUÍ"
   ]
  },
  {
   "cell_type": "markdown",
   "metadata": {},
   "source": [
    "## Ejercicio 3\n",
    "\n",
    "(10 puntos)\n",
    "\n",
    "Mostrar evolución y comparación de los fallecimientos entre distintos grupos etáreos, pero que al mismo tiempo sea fácil identificar la cantidad de fallecidos total en cada fecha."
   ]
  },
  {
   "cell_type": "code",
   "execution_count": 9,
   "metadata": {},
   "outputs": [],
   "source": [
    "# FIX ME #"
   ]
  },
  {
   "cell_type": "markdown",
   "metadata": {},
   "source": [
    "**Comentarios:** RESPONDE AQUÍ"
   ]
  },
  {
   "cell_type": "markdown",
   "metadata": {},
   "source": [
    "## Ejercicio 4\n",
    "\n",
    "(10 puntos)\n",
    "\n",
    "Mostrar en tres gráficos la evolución de casos confirmados, evolución de fallecimientos y evolución de casos activos."
   ]
  },
  {
   "cell_type": "code",
   "execution_count": 10,
   "metadata": {},
   "outputs": [],
   "source": [
    "# FIX ME #"
   ]
  },
  {
   "cell_type": "markdown",
   "metadata": {},
   "source": [
    "**Comentarios:** RESPONDE AQUÍ"
   ]
  },
  {
   "cell_type": "markdown",
   "metadata": {},
   "source": [
    "## Ejercicio 5\n",
    "\n",
    "(10 puntos)\n",
    "\n",
    "Comparar la tasa de incidencia entre las regiones a lo largo del tiempo."
   ]
  },
  {
   "cell_type": "code",
   "execution_count": 11,
   "metadata": {},
   "outputs": [],
   "source": [
    "# FIX ME #"
   ]
  },
  {
   "cell_type": "markdown",
   "metadata": {},
   "source": [
    "**Comentarios:** RESPONDE AQUÍ"
   ]
  },
  {
   "cell_type": "markdown",
   "metadata": {},
   "source": [
    "## Ejercicio 6\n",
    "\n",
    "(10 puntos)\n",
    "\n",
    "¿Hay alguna conclusión que puedas obtener rápidamente al graficar un _scatter plot_ con los casos confirmados y tasa de incidencia de cada comuna para los días 13 de abril y 6 de noviembre del 2020? Además, colorea cada punto según la región a la que pertenece y considera si es útil en el gráfico que el tamaño sea proporcional a la población."
   ]
  },
  {
   "cell_type": "code",
   "execution_count": 12,
   "metadata": {},
   "outputs": [],
   "source": [
    "# FIX ME #"
   ]
  },
  {
   "cell_type": "markdown",
   "metadata": {},
   "source": [
    "**Comentarios:** RESPONDE AQUÍ"
   ]
  },
  {
   "cell_type": "markdown",
   "metadata": {},
   "source": [
    "## Ejercicio 7\n",
    "\n",
    "(10 puntos)\n",
    "\n",
    "1. Grafica la evolución de los casos activos de cada comuna en un solo gráfico. \n",
    "2. Grafica la evolución de los casos activos de cada comuna en gráficos separados por región.\n",
    "\n",
    "Entrega los pros y contras de cada uno de estos enfoques."
   ]
  },
  {
   "cell_type": "code",
   "execution_count": 13,
   "metadata": {},
   "outputs": [],
   "source": [
    "# FIX ME #"
   ]
  },
  {
   "cell_type": "code",
   "execution_count": 14,
   "metadata": {},
   "outputs": [],
   "source": [
    "# FIX ME #"
   ]
  },
  {
   "cell_type": "markdown",
   "metadata": {},
   "source": [
    "**Comentarios:** RESPONDE AQUÍ"
   ]
  },
  {
   "cell_type": "markdown",
   "metadata": {},
   "source": [
    "## Ejercicio 8\n",
    "\n",
    "(10 puntos)\n",
    "\n",
    "Hacer un gráfico que permita comparar rápidamente entre regiones su promedio de casos activos , máximo de casos confirmados y fallecidos. Utiliza los valores reales y apoyarlos con colores.\n",
    "\n",
    "Se adjunta el diccionario `region_names` con tal de reemplazar los nombres de las regiones en los datos `fallecidos` para poder unir con los otros datos. "
   ]
  },
  {
   "cell_type": "code",
   "execution_count": 15,
   "metadata": {},
   "outputs": [],
   "source": [
    "region_names = {\n",
    "    \"Araucanía\": \"La Araucanía\",\n",
    "    \"Aysén\": \"Aysén del General Carlos Ibáñez del Campo\",\n",
    "    \"Magallanes\": \"Magallanes y de la Antártica Chilena\",\n",
    "    \"Metropolitana\": \"Metropolitana de Santiago\",\n",
    "    \"O’Higgins\": \"Libertador General Bernardo O'Higgins\",\n",
    "}"
   ]
  },
  {
   "cell_type": "code",
   "execution_count": 16,
   "metadata": {},
   "outputs": [],
   "source": [
    "# FIX ME #"
   ]
  },
  {
   "cell_type": "markdown",
   "metadata": {},
   "source": [
    "**Comentarios:** RESPONDE AQUÍ"
   ]
  },
  {
   "cell_type": "markdown",
   "metadata": {},
   "source": [
    "## Ejercicio 9\n",
    "\n",
    "\n",
    "En este ejercicio buscaremos realizar un mini-dashboard respecto al estado de los casos de COVID-19 en Chile, por lo tanto utilizaremos haremos uso de datos geográficos de manera operacional (es decir, no nos preocuparemos de proyecciones en mapas ni nada por el estilo), lo único es que debes instalar `geopandas` en tu ambiente virtual y no olvidar actualizarlo en tu `environment.yml` para luego subirlo a tu repositorio de GitHub.\n",
    "\n",
    "Con tu ambiente activo (`conda activate mat281`) basta con ejecutar `conda install -c conda-forge geopandas` para instalar `geopandas`."
   ]
  },
  {
   "cell_type": "code",
   "execution_count": 17,
   "metadata": {},
   "outputs": [],
   "source": [
    "import geopandas as gpd\n",
    "from pathlib import Path"
   ]
  },
  {
   "cell_type": "code",
   "execution_count": 18,
   "metadata": {},
   "outputs": [
    {
     "data": {
      "text/html": [
       "<div>\n",
       "<style scoped>\n",
       "    .dataframe tbody tr th:only-of-type {\n",
       "        vertical-align: middle;\n",
       "    }\n",
       "\n",
       "    .dataframe tbody tr th {\n",
       "        vertical-align: top;\n",
       "    }\n",
       "\n",
       "    .dataframe thead th {\n",
       "        text-align: right;\n",
       "    }\n",
       "</style>\n",
       "<table border=\"1\" class=\"dataframe\">\n",
       "  <thead>\n",
       "    <tr style=\"text-align: right;\">\n",
       "      <th></th>\n",
       "      <th>Region</th>\n",
       "      <th>objectid</th>\n",
       "      <th>cir_sena</th>\n",
       "      <th>codregion</th>\n",
       "      <th>area_km</th>\n",
       "      <th>st_area_sh</th>\n",
       "      <th>st_length_</th>\n",
       "      <th>geometry</th>\n",
       "    </tr>\n",
       "  </thead>\n",
       "  <tbody>\n",
       "    <tr>\n",
       "      <th>0</th>\n",
       "      <td>Región Metropolitana de Santiago</td>\n",
       "      <td>1092</td>\n",
       "      <td>7</td>\n",
       "      <td>13</td>\n",
       "      <td>15392.030737</td>\n",
       "      <td>2.225204e+10</td>\n",
       "      <td>1.064253e+06</td>\n",
       "      <td>POLYGON ((-7873736.745 -3885505.642, -7873695....</td>\n",
       "    </tr>\n",
       "    <tr>\n",
       "      <th>1</th>\n",
       "      <td>Región de Antofagasta</td>\n",
       "      <td>1086</td>\n",
       "      <td>3</td>\n",
       "      <td>2</td>\n",
       "      <td>126071.431981</td>\n",
       "      <td>1.508452e+11</td>\n",
       "      <td>2.516112e+06</td>\n",
       "      <td>MULTIPOLYGON (((-7874671.129 -2977676.850, -78...</td>\n",
       "    </tr>\n",
       "    <tr>\n",
       "      <th>2</th>\n",
       "      <td>Región de Arica y Parinacota</td>\n",
       "      <td>1084</td>\n",
       "      <td>1</td>\n",
       "      <td>15</td>\n",
       "      <td>16866.819844</td>\n",
       "      <td>1.886869e+10</td>\n",
       "      <td>7.505296e+05</td>\n",
       "      <td>POLYGON ((-7727277.278 -1997230.768, -7726464....</td>\n",
       "    </tr>\n",
       "    <tr>\n",
       "      <th>3</th>\n",
       "      <td>Región de Atacama</td>\n",
       "      <td>1089</td>\n",
       "      <td>4</td>\n",
       "      <td>3</td>\n",
       "      <td>75661.248635</td>\n",
       "      <td>9.643906e+10</td>\n",
       "      <td>2.401741e+06</td>\n",
       "      <td>MULTIPOLYGON (((-7900342.628 -3153340.296, -79...</td>\n",
       "    </tr>\n",
       "    <tr>\n",
       "      <th>4</th>\n",
       "      <td>Región de Aysén del Gral.Ibañez del Campo</td>\n",
       "      <td>1088</td>\n",
       "      <td>14</td>\n",
       "      <td>11</td>\n",
       "      <td>106703.377369</td>\n",
       "      <td>2.242743e+11</td>\n",
       "      <td>4.144481e+07</td>\n",
       "      <td>MULTIPOLYGON (((-8208500.834 -5733817.475, -82...</td>\n",
       "    </tr>\n",
       "  </tbody>\n",
       "</table>\n",
       "</div>"
      ],
      "text/plain": [
       "                                      Region  objectid  cir_sena  codregion  \\\n",
       "0           Región Metropolitana de Santiago      1092         7         13   \n",
       "1                      Región de Antofagasta      1086         3          2   \n",
       "2               Región de Arica y Parinacota      1084         1         15   \n",
       "3                          Región de Atacama      1089         4          3   \n",
       "4  Región de Aysén del Gral.Ibañez del Campo      1088        14         11   \n",
       "\n",
       "         area_km    st_area_sh    st_length_  \\\n",
       "0   15392.030737  2.225204e+10  1.064253e+06   \n",
       "1  126071.431981  1.508452e+11  2.516112e+06   \n",
       "2   16866.819844  1.886869e+10  7.505296e+05   \n",
       "3   75661.248635  9.643906e+10  2.401741e+06   \n",
       "4  106703.377369  2.242743e+11  4.144481e+07   \n",
       "\n",
       "                                            geometry  \n",
       "0  POLYGON ((-7873736.745 -3885505.642, -7873695....  \n",
       "1  MULTIPOLYGON (((-7874671.129 -2977676.850, -78...  \n",
       "2  POLYGON ((-7727277.278 -1997230.768, -7726464....  \n",
       "3  MULTIPOLYGON (((-7900342.628 -3153340.296, -79...  \n",
       "4  MULTIPOLYGON (((-8208500.834 -5733817.475, -82...  "
      ]
     },
     "execution_count": 18,
     "metadata": {},
     "output_type": "execute_result"
    }
   ],
   "source": [
    "shp_filepath = Path().resolve().parent / \"data\" / \"regiones_chile.shp\"\n",
    "regiones = gpd.read_file(shp_filepath)\n",
    "regiones.head()"
   ]
  },
  {
   "cell_type": "code",
   "execution_count": 19,
   "metadata": {},
   "outputs": [
    {
     "data": {
      "text/plain": [
       "geopandas.geodataframe.GeoDataFrame"
      ]
     },
     "execution_count": 19,
     "metadata": {},
     "output_type": "execute_result"
    }
   ],
   "source": [
    "type(regiones)"
   ]
  },
  {
   "cell_type": "markdown",
   "metadata": {},
   "source": [
    "Lo único que tienes que saber es que un `GeoDataFrame` es idéntico a un `DataFrame` salvo que debe poseer una columna llamada `geometry` caracterice los elementros geométricos, que en este casos son polígonos con los límites de las regiones de Chile. \n",
    "\n",
    "Para graficar mapas en Altair se debe usar `mark_geoshape`, además, para no preocuparnos de las proyecciones si o si debes declarar lo siguiente que se muestra en la siguiente celda en las propiedades del gráfico. El resto es igual a cualquier otro gráfico de Altair."
   ]
  },
  {
   "cell_type": "code",
   "execution_count": null,
   "metadata": {},
   "outputs": [],
   "source": [
    "alt.Chart(regiones).mark_geoshape().encode(\n",
    ").properties(\n",
    "    projection={'type': 'identity', 'reflectY': True},\n",
    "    width=250,\n",
    "    height=600\n",
    ")"
   ]
  },
  {
   "cell_type": "markdown",
   "metadata": {},
   "source": [
    "### Ejercicio 9.1\n",
    "\n",
    "(10 puntos)\n",
    "\n",
    "Define el `DataFrame` con el nombre `casos_geo` tal que tenga las columnas\n",
    "\n",
    "* `region`\n",
    "* `codigo_region`\n",
    "* `fecha`\n",
    "* `poblacion`\n",
    "* `casos_confirmados`\n",
    "* `tasa`\n",
    "* `casos_activos`\n",
    "* `fallecidos`\n",
    "* `geometry`\n",
    "\n",
    "Ten mucho cuidado como unes los dataframes `confirmados`, `activos`, `fallecidos` y `regiones`. Idealmente utilizar el código de región, pero en caso que no se encuentren disponibles utilizar el nombre de la región (no olivdar utilizar el diccionario `region_names`)."
   ]
  },
  {
   "cell_type": "code",
   "execution_count": null,
   "metadata": {},
   "outputs": [],
   "source": [
    "casos_geo = (\n",
    "    # FIX ME #\n",
    ")\n",
    "\n",
    "casos_geo.head()"
   ]
  },
  {
   "cell_type": "markdown",
   "metadata": {},
   "source": [
    "Ejecuta lo siguiente para convertir el DataFrame anterior en un GeoDataFrames"
   ]
  },
  {
   "cell_type": "code",
   "execution_count": null,
   "metadata": {},
   "outputs": [],
   "source": [
    "casos_geo = casos_geo.pipe(lambda x: gpd.GeoDataFrame(x, geometry=\"geometry\"))"
   ]
  },
  {
   "cell_type": "markdown",
   "metadata": {},
   "source": [
    "### Ejercicio 9.2\n",
    "\n",
    "(5 puntos)\n",
    "\n",
    "Modifica la función `covid_chile_chart` tal que reciba una fecha y una columna. Luego, debe filtrar `casos_geo` con registros de la fecha seleccionada y graficar un mapa donde las regiones se colereen según la columna escogida. "
   ]
  },
  {
   "cell_type": "code",
   "execution_count": null,
   "metadata": {},
   "outputs": [],
   "source": [
    "def covid_chile_chart(fecha, col):\n",
    "    \n",
    "    fecha = pd.to_datetime(fecha)\n",
    "    data = # FIX ME #\n",
    "    \n",
    "    chart = alt.Chart(data).mark_geoshape().encode(\n",
    "        # FIX ME #\n",
    "    ).properties(\n",
    "        projection={'type': 'identity', 'reflectY': True},\n",
    "        width=150,\n",
    "        height=400\n",
    "    )\n",
    "    \n",
    "    chart.display()\n",
    "    return"
   ]
  },
  {
   "cell_type": "markdown",
   "metadata": {},
   "source": [
    "Prueba con lo siguiente"
   ]
  },
  {
   "cell_type": "code",
   "execution_count": null,
   "metadata": {},
   "outputs": [],
   "source": [
    "fecha = \"2020-04-13\"\n",
    "col = \"tasa\"\n",
    "covid_chile_chart(fecha, col)"
   ]
  },
  {
   "cell_type": "markdown",
   "metadata": {},
   "source": [
    "### Ejercicio 9.3\n",
    "\n",
    "(5 puntos)\n",
    "\n",
    "Ahora utilizando `widgets` generaremos el dashboard interactivo. Define lo siguiente:\n",
    "\n",
    "* col_widget: Un `widgets.Dropdown` donde las opciones a seleccionar sean las columnas `poblacion`, `casos_confirmados`, `tasa`, `casos_activos` y `fallecidos`. Además, el argumento `description` debe ser `Columna`.\n",
    "* fecha_widget: Un `widgets.DatePicker` donde el argumento `description` sea `Fecha`.\n",
    "* Ambos widgets deben tener el argumento `continuous_update=False`"
   ]
  },
  {
   "cell_type": "code",
   "execution_count": null,
   "metadata": {},
   "outputs": [],
   "source": [
    "import ipywidgets as widgets\n",
    "from ipywidgets import interactive, interact"
   ]
  },
  {
   "cell_type": "code",
   "execution_count": null,
   "metadata": {},
   "outputs": [],
   "source": [
    "col_widget = # FIX ME #"
   ]
  },
  {
   "cell_type": "code",
   "execution_count": null,
   "metadata": {},
   "outputs": [],
   "source": [
    "fecha_widget = # FIX ME #"
   ]
  },
  {
   "cell_type": "markdown",
   "metadata": {},
   "source": [
    "Finalmente, haciendo uso de `interactive`, la función `covid_chile_chart` y todos los widgets es posible crear un _dashboard_ interactivo con los datos de Covid-19.\n",
    "\n",
    "Respira profundo y explora tu creación!"
   ]
  },
  {
   "cell_type": "code",
   "execution_count": null,
   "metadata": {},
   "outputs": [],
   "source": [
    "covid_dashboard = interactive(\n",
    "    covid_chile_chart,\n",
    "    fecha=fecha_widget,\n",
    "    col=col_widget\n",
    ")\n",
    "covid_dashboard"
   ]
  },
  {
   "cell_type": "markdown",
   "metadata": {},
   "source": [
    "**Comentarios:** RESPONDE AQUÍ"
   ]
  }
 ],
 "metadata": {
  "kernelspec": {
   "display_name": "Python 3",
   "language": "python",
   "name": "python3"
  },
  "language_info": {
   "codemirror_mode": {
    "name": "ipython",
    "version": 3
   },
   "file_extension": ".py",
   "mimetype": "text/x-python",
   "name": "python",
   "nbconvert_exporter": "python",
   "pygments_lexer": "ipython3",
   "version": "3.7.8"
  }
 },
 "nbformat": 4,
 "nbformat_minor": 4
}
